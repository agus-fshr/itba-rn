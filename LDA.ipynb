{
 "cells": [
  {
   "cell_type": "markdown",
   "metadata": {},
   "source": [
    "Integrantes:\n",
    "- Fisher, Agustin\n",
    "- Ruiz, Lucia Ines"
   ]
  },
  {
   "cell_type": "code",
   "execution_count": 53,
   "metadata": {},
   "outputs": [],
   "source": [
    "import pandas as pd\n",
    "import numpy as np\n",
    "from matplotlib import pyplot as plt\n",
    "import pandas as pd\n",
    "from collections import Counter\n",
    "from mpl_toolkits.mplot3d import Axes3D\n",
    "from scipy.stats import multivariate_normal"
   ]
  },
  {
   "cell_type": "code",
   "execution_count": 54,
   "metadata": {},
   "outputs": [],
   "source": [
    "train_df = pd.read_csv(\"data/alturas-pesos-mils-train.csv\")\n",
    "test_df = pd.read_csv(\"data/alturas-pesos-mils-test.csv\")"
   ]
  },
  {
   "cell_type": "code",
   "execution_count": 55,
   "metadata": {},
   "outputs": [
    {
     "data": {
      "text/html": [
       "<div>\n",
       "<style scoped>\n",
       "    .dataframe tbody tr th:only-of-type {\n",
       "        vertical-align: middle;\n",
       "    }\n",
       "\n",
       "    .dataframe tbody tr th {\n",
       "        vertical-align: top;\n",
       "    }\n",
       "\n",
       "    .dataframe thead th {\n",
       "        text-align: right;\n",
       "    }\n",
       "</style>\n",
       "<table border=\"1\" class=\"dataframe\">\n",
       "  <thead>\n",
       "    <tr style=\"text-align: right;\">\n",
       "      <th></th>\n",
       "      <th>Unnamed: 0</th>\n",
       "      <th>Genero</th>\n",
       "      <th>Peso</th>\n",
       "      <th>Altura</th>\n",
       "    </tr>\n",
       "  </thead>\n",
       "  <tbody>\n",
       "    <tr>\n",
       "      <th>0</th>\n",
       "      <td>7620</td>\n",
       "      <td>Mujer</td>\n",
       "      <td>61.235</td>\n",
       "      <td>162.402</td>\n",
       "    </tr>\n",
       "    <tr>\n",
       "      <th>1</th>\n",
       "      <td>1837</td>\n",
       "      <td>Hombre</td>\n",
       "      <td>97.432</td>\n",
       "      <td>181.908</td>\n",
       "    </tr>\n",
       "    <tr>\n",
       "      <th>2</th>\n",
       "      <td>3311</td>\n",
       "      <td>Hombre</td>\n",
       "      <td>73.324</td>\n",
       "      <td>172.459</td>\n",
       "    </tr>\n",
       "    <tr>\n",
       "      <th>3</th>\n",
       "      <td>9478</td>\n",
       "      <td>Mujer</td>\n",
       "      <td>55.193</td>\n",
       "      <td>157.748</td>\n",
       "    </tr>\n",
       "    <tr>\n",
       "      <th>4</th>\n",
       "      <td>7805</td>\n",
       "      <td>Mujer</td>\n",
       "      <td>56.886</td>\n",
       "      <td>151.798</td>\n",
       "    </tr>\n",
       "    <tr>\n",
       "      <th>...</th>\n",
       "      <td>...</td>\n",
       "      <td>...</td>\n",
       "      <td>...</td>\n",
       "      <td>...</td>\n",
       "    </tr>\n",
       "    <tr>\n",
       "      <th>7995</th>\n",
       "      <td>6395</td>\n",
       "      <td>Mujer</td>\n",
       "      <td>62.215</td>\n",
       "      <td>160.083</td>\n",
       "    </tr>\n",
       "    <tr>\n",
       "      <th>7996</th>\n",
       "      <td>2714</td>\n",
       "      <td>Hombre</td>\n",
       "      <td>83.840</td>\n",
       "      <td>177.866</td>\n",
       "    </tr>\n",
       "    <tr>\n",
       "      <th>7997</th>\n",
       "      <td>3476</td>\n",
       "      <td>Hombre</td>\n",
       "      <td>75.461</td>\n",
       "      <td>170.910</td>\n",
       "    </tr>\n",
       "    <tr>\n",
       "      <th>7998</th>\n",
       "      <td>7084</td>\n",
       "      <td>Mujer</td>\n",
       "      <td>65.461</td>\n",
       "      <td>166.137</td>\n",
       "    </tr>\n",
       "    <tr>\n",
       "      <th>7999</th>\n",
       "      <td>3346</td>\n",
       "      <td>Hombre</td>\n",
       "      <td>80.323</td>\n",
       "      <td>171.575</td>\n",
       "    </tr>\n",
       "  </tbody>\n",
       "</table>\n",
       "<p>8000 rows × 4 columns</p>\n",
       "</div>"
      ],
      "text/plain": [
       "      Unnamed: 0  Genero    Peso   Altura\n",
       "0           7620   Mujer  61.235  162.402\n",
       "1           1837  Hombre  97.432  181.908\n",
       "2           3311  Hombre  73.324  172.459\n",
       "3           9478   Mujer  55.193  157.748\n",
       "4           7805   Mujer  56.886  151.798\n",
       "...          ...     ...     ...      ...\n",
       "7995        6395   Mujer  62.215  160.083\n",
       "7996        2714  Hombre  83.840  177.866\n",
       "7997        3476  Hombre  75.461  170.910\n",
       "7998        7084   Mujer  65.461  166.137\n",
       "7999        3346  Hombre  80.323  171.575\n",
       "\n",
       "[8000 rows x 4 columns]"
      ]
     },
     "execution_count": 55,
     "metadata": {},
     "output_type": "execute_result"
    }
   ],
   "source": [
    "train_df"
   ]
  },
  {
   "cell_type": "markdown",
   "metadata": {},
   "source": [
    "Separamos en datos de train y datos de test. `x` es para las features e `y` es para las classes."
   ]
  },
  {
   "cell_type": "code",
   "execution_count": 56,
   "metadata": {},
   "outputs": [],
   "source": [
    "features = ['Peso', 'Altura']\n",
    "target = 'Genero'\n",
    "\n",
    "x_train = train_df[features].values\n",
    "y_train = train_df[target].values\n",
    "\n",
    "x_test = test_df[features].values\n",
    "y_test = test_df[target].values"
   ]
  },
  {
   "cell_type": "markdown",
   "metadata": {},
   "source": [
    "Armamos una tupla con las clases, nro de clases y nro de features."
   ]
  },
  {
   "cell_type": "code",
   "execution_count": 57,
   "metadata": {},
   "outputs": [
    {
     "name": "stdout",
     "output_type": "stream",
     "text": [
      "['Hombre' 'Mujer']\n"
     ]
    }
   ],
   "source": [
    "classes = np.unique(y_train)\n",
    "num_classes = len(classes)\n",
    "n_features = x_train.shape[1]\n",
    "\n",
    "print(classes)"
   ]
  },
  {
   "cell_type": "markdown",
   "metadata": {},
   "source": [
    "Computamos las probabilidades a priori y medias"
   ]
  },
  {
   "cell_type": "code",
   "execution_count": 58,
   "metadata": {},
   "outputs": [],
   "source": [
    "priors = {}\n",
    "means = {}\n",
    "for c in classes:\n",
    "    X_c = x_train[y_train == c]\n",
    "    priors[c] = X_c.shape[0] / x_train.shape[0]\n",
    "    means[c] = np.mean(X_c, axis=0)"
   ]
  },
  {
   "cell_type": "code",
   "execution_count": 59,
   "metadata": {},
   "outputs": [
    {
     "data": {
      "text/plain": [
       "{'Hombre': 0.50025, 'Mujer': 0.49975}"
      ]
     },
     "execution_count": 59,
     "metadata": {},
     "output_type": "execute_result"
    }
   ],
   "source": [
    "priors"
   ]
  },
  {
   "cell_type": "code",
   "execution_count": 60,
   "metadata": {},
   "outputs": [
    {
     "data": {
      "text/plain": [
       "{'Hombre': array([ 84.45539805, 174.91533033]),\n",
       " 'Mujer': array([ 61.13789495, 161.30471261])}"
      ]
     },
     "execution_count": 60,
     "metadata": {},
     "output_type": "execute_result"
    }
   ],
   "source": [
    "means"
   ]
  },
  {
   "cell_type": "code",
   "execution_count": 61,
   "metadata": {},
   "outputs": [
    {
     "data": {
      "text/plain": [
       "array([ 72.80247587, 168.11342412])"
      ]
     },
     "execution_count": 61,
     "metadata": {},
     "output_type": "execute_result"
    }
   ],
   "source": [
    "np.mean(x_train, axis=0)"
   ]
  },
  {
   "cell_type": "markdown",
   "metadata": {},
   "source": [
    "Calculamos la covarianza"
   ]
  },
  {
   "cell_type": "code",
   "execution_count": 62,
   "metadata": {},
   "outputs": [],
   "source": [
    "x_train_male = train_df.loc[train_df['Genero']=='Hombre'][['Peso', 'Altura']].values\n",
    "x_train_female = train_df.loc[train_df['Genero']=='Mujer'][['Peso', 'Altura']].values\n",
    "\n",
    "cov = np.cov(np.vstack([x_train_male - means['Hombre'], x_train_female - means['Mujer']]).T)"
   ]
  },
  {
   "cell_type": "code",
   "execution_count": 63,
   "metadata": {},
   "outputs": [
    {
     "name": "stdout",
     "output_type": "stream",
     "text": [
      "Covariance: [[77.93836353 53.52473405]\n",
      " [53.52473405 50.2915853 ]]\n"
     ]
    }
   ],
   "source": [
    "print(f\"Covariance: {cov}\")"
   ]
  },
  {
   "cell_type": "code",
   "execution_count": 64,
   "metadata": {},
   "outputs": [],
   "source": [
    "def get_gauss_prob(data, means, priors, cov):\n",
    "    data_np = data\n",
    "    p_class = {}\n",
    "    \n",
    "    L_male = multivariate_normal.pdf(data_np, means['Hombre'], cov)\n",
    "    L_female = multivariate_normal.pdf(data_np, means['Mujer'], cov)\n",
    "    p_total = L_male * priors['Hombre'] + L_female * priors['Mujer']\n",
    "    p_class['Hombre'] = L_male * priors['Hombre'] / p_total\n",
    "    p_class['Mujer'] = L_female * priors['Mujer'] / p_total\n",
    "\n",
    "    return p_class\n"
   ]
  },
  {
   "cell_type": "code",
   "execution_count": 65,
   "metadata": {},
   "outputs": [],
   "source": [
    "def get_acc_gauss(p_class, data):\n",
    "    return (((p_class['Hombre'] > p_class['Mujer']) == (data['Genero'] == 'Hombre')).sum() / len(p_class['Hombre']))"
   ]
  },
  {
   "cell_type": "markdown",
   "metadata": {},
   "source": [
    "Calculamos accuracy de training y test"
   ]
  },
  {
   "cell_type": "code",
   "execution_count": 66,
   "metadata": {},
   "outputs": [
    {
     "name": "stdout",
     "output_type": "stream",
     "text": [
      "Train Accuracy: 91.675 %\n"
     ]
    }
   ],
   "source": [
    "p_class = get_gauss_prob(x_train, means, priors, cov)\n",
    "acc_train = get_acc_gauss(p_class, train_df)\n",
    "print(f\"Train Accuracy: {acc_train*100} %\")"
   ]
  },
  {
   "cell_type": "code",
   "execution_count": 67,
   "metadata": {},
   "outputs": [
    {
     "name": "stdout",
     "output_type": "stream",
     "text": [
      "Test Accuracy: 92.25 %\n"
     ]
    }
   ],
   "source": [
    "p_class = get_gauss_prob(x_test, means, priors, cov)\n",
    "acc_test = get_acc_gauss(p_class, test_df)\n",
    "print(f\"Test Accuracy: {acc_test*100} %\")"
   ]
  },
  {
   "cell_type": "markdown",
   "metadata": {},
   "source": [
    "Graficamos en 3D"
   ]
  },
  {
   "cell_type": "code",
   "execution_count": 68,
   "metadata": {},
   "outputs": [],
   "source": [
    "N = 300\n",
    "X = np.linspace(train_df.min()['Peso'], train_df.max()['Peso'], N)\n",
    "Y = np.linspace(train_df.min()['Altura'], train_df.max()['Altura'], N)\n",
    "X, Y = np.meshgrid(X, Y)\n",
    "\n",
    "# Pack X and Y into a single 3-dimensional array\n",
    "pos = np.empty(X.shape + (2,))\n",
    "pos[:, :, 0] = X\n",
    "pos[:, :, 1] = Y\n",
    "\n",
    "# The distribution on the variables X, Y packed into pos.\n",
    "Z_H_LDA = multivariate_normal.pdf(pos, means['Hombre'], cov)\n",
    "Z_M_LDA = multivariate_normal.pdf(pos, means['Mujer'], cov)\n",
    "Z_LDA = get_gauss_prob(x_train, means, priors, cov)['Hombre'], get_gauss_prob(x_train, means, priors, cov)['Mujer']"
   ]
  },
  {
   "cell_type": "code",
   "execution_count": 69,
   "metadata": {},
   "outputs": [
    {
     "name": "stderr",
     "output_type": "stream",
     "text": [
      "qt.qpa.wayland: Wayland does not support QWindow::requestActivate()\n"
     ]
    }
   ],
   "source": [
    "%matplotlib qt\n",
    "from matplotlib import cm\n",
    "from mpl_toolkits.mplot3d import Axes3D\n",
    "from matplotlib.colors import ListedColormap\n",
    "fig = plt.figure(figsize=(20,10))\n",
    "ax = fig.add_subplot(projection='3d')\n",
    "cm = plt.cm.RdBu\n",
    "#cf = ax.contourf(X, Y, Z, 256, alpha=.8, vmin=0., vmax=1., cmap=cm)\n",
    "#plt.colorbar(cf, ax=ax)\n",
    "ax.contourf(X, Y, Z_H_LDA, 256)\n",
    "ax.contourf(X, Y, Z_M_LDA, 256)\n",
    "ax.view_init(70, -90)\n",
    "ax.set_ylabel('Alturas [cms]')\n",
    "ax.set_xlabel('Pesos [kgs]')\n",
    "plt.show()"
   ]
  },
  {
   "cell_type": "markdown",
   "metadata": {},
   "source": [
    "Ahora, la implementacion con SKLearn"
   ]
  },
  {
   "cell_type": "code",
   "execution_count": 70,
   "metadata": {},
   "outputs": [],
   "source": [
    "# sigo teniendo las mismas features y x_train, etc...\n",
    "\n",
    "from sklearn.discriminant_analysis import LinearDiscriminantAnalysis\n",
    "from sklearn.metrics import accuracy_score\n",
    "\n",
    "def sk_lda_full(x_train, y_train, x_test, y_test):\n",
    "    lda = LinearDiscriminantAnalysis(priors=None)\n",
    "    lda.fit(x_train, y_train)\n",
    "    y_pred = lda.predict(x_test)\n",
    "    acc_sk = accuracy_score(y_test, y_pred)\n",
    "    return lda, acc_sk\n",
    "\n"
   ]
  },
  {
   "cell_type": "code",
   "execution_count": 71,
   "metadata": {},
   "outputs": [],
   "source": [
    "lda_normal, acc_normal = sk_lda_full(x_train, y_train, x_test, y_test)"
   ]
  },
  {
   "cell_type": "code",
   "execution_count": 72,
   "metadata": {},
   "outputs": [
    {
     "name": "stdout",
     "output_type": "stream",
     "text": [
      "Means: [[ 84.45539805 174.91533033]\n",
      " [ 61.13789495 161.30471261]]\n",
      "Priors: [0.50025 0.49975]\n"
     ]
    }
   ],
   "source": [
    "# https://scikit-learn.org/stable/modules/generated/sklearn.discriminant_analysis.LinearDiscriminantAnalysis.html\n",
    "print(f\"Means: {lda_normal.means_}\")\n",
    "print(f\"Priors: {lda_normal.priors_}\")\n"
   ]
  },
  {
   "cell_type": "code",
   "execution_count": 73,
   "metadata": {},
   "outputs": [
    {
     "name": "stderr",
     "output_type": "stream",
     "text": [
      "qt.qpa.wayland: Wayland does not support QWindow::requestActivate()\n",
      "qt.qpa.wayland: Wayland does not support QWindow::requestActivate()\n"
     ]
    }
   ],
   "source": [
    "N = 300\n",
    "X = np.linspace(train_df.min()['Peso'], train_df.max()['Peso'], N)\n",
    "Y = np.linspace(train_df.min()['Altura'], train_df.max()['Altura'], N)\n",
    "X, Y = np.meshgrid(X, Y)\n",
    "\n",
    "# Pack X and Y into a single 3-dimensional array\n",
    "pos = np.empty(X.shape + (2,))\n",
    "pos[:, :, 0] = X\n",
    "pos[:, :, 1] = Y\n",
    "\n",
    "# The distribution on the variables X, Y packed into pos.\n",
    "Z_H_nb = multivariate_normal.pdf(pos, means['Hombre'], cov)\n",
    "Z_M_nb = multivariate_normal.pdf(pos, means['Mujer'], cov)\n",
    "Z_nb = get_gauss_prob(pos, means, priors, cov)['Hombre']\n",
    "\n",
    "fig = plt.figure(figsize=(20,10))\n",
    "ax = fig.gca()\n",
    "cm = plt.cm.RdBu\n",
    "cf = ax.contourf(X, Y, Z_nb, 256, alpha=.8, vmin=0., vmax=1., cmap=cm)\n",
    "plt.colorbar(cf, ax=ax)\n",
    "z_levels = np.logspace(-5,-2,10)/4\n",
    "ax.contour(X, Y, Z_H_nb, z_levels)\n",
    "ax.contour(X, Y, Z_M_nb, z_levels)\n",
    "ax.contour(X, Y, Z_nb, (0.5,), colors='k', linewidths=1)\n",
    "ax.set_ylabel('Alturas [cms]')\n",
    "ax.set_xlabel('Pesos [kgs]')\n",
    "plt.show()"
   ]
  },
  {
   "cell_type": "code",
   "execution_count": 74,
   "metadata": {},
   "outputs": [],
   "source": [
    "x_train_p = x_train[:, 0].reshape(-1,1)\n",
    "x_test_p = x_test[:, 0].reshape(-1,1)\n",
    "x_train_a = x_train[:, 1].reshape(-1,1)\n",
    "x_test_a = x_test[:, 1].reshape(-1,1)"
   ]
  },
  {
   "cell_type": "markdown",
   "metadata": {},
   "source": [
    "Reentrenamos el modelo con p, $p^2$, a, $a^2$, $p*a$. Extensión cuadrática."
   ]
  },
  {
   "cell_type": "code",
   "execution_count": 75,
   "metadata": {},
   "outputs": [
    {
     "name": "stdout",
     "output_type": "stream",
     "text": [
      "weights: [[-1.1484025   1.29335473 -0.00134754  0.00549391 -0.00451112]]\n",
      "intercept: [-66.43702474]\n",
      "means: [[   84.45539805   174.91533033  7213.38873504 14828.81278766\n",
      "  30648.38190941]\n",
      " [   61.13789495   161.30471261  3813.02221877  9912.59496949\n",
      "  26066.76905825]]\n",
      "train accuracy: 0.91575\n",
      "validation accuracy: 0.92\n"
     ]
    }
   ],
   "source": [
    "from sklearn.preprocessing import PolynomialFeatures\n",
    "import seaborn as sns\n",
    "\n",
    "poly = PolynomialFeatures(degree=2, include_bias=False)  # degree=2 genera p, p^2, a, a^2, p*a\n",
    "X_train_extended = poly.fit_transform(x_train)\n",
    "x_test_extended = poly.transform(x_test)\n",
    "\n",
    "lda_ext, acc_ext = sk_lda_full(X_train_extended, y_train, poly.transform(x_test), y_test)\n",
    "\n",
    "lda = LinearDiscriminantAnalysis(priors=None)\n",
    "lda.fit(X_train_extended, y_train)\n",
    "\n",
    "acc_train = lda.score(X_train_extended, y_train)\n",
    "acc_test = lda.score(x_test_extended, y_test)\n",
    "\n",
    "print(f\"weights: {lda_ext.coef_}\")\n",
    "print(f\"intercept: {lda_ext.intercept_}\")\n",
    "print(f\"means: {lda_ext.means_}\")\n",
    "print(f\"train accuracy: {acc_train}\")\n",
    "print(f\"validation accuracy: {acc_test}\")"
   ]
  },
  {
   "cell_type": "code",
   "execution_count": 76,
   "metadata": {},
   "outputs": [
    {
     "name": "stderr",
     "output_type": "stream",
     "text": [
      "/tmp/ipykernel_34806/4004702783.py:20: UserWarning: No data for colormapping provided via 'c'. Parameters 'cmap' will be ignored\n",
      "  plt.scatter(x_train[:, 0], x_train[:, 1], c=point_colors, cmap='viridis', edgecolor='k', s=30)\n",
      "qt.qpa.wayland: Wayland does not support QWindow::requestActivate()\n",
      "qt.qpa.wayland: Wayland does not support QWindow::requestActivate()\n"
     ]
    }
   ],
   "source": [
    "x_min = x_train[:, 0].min() - 1\n",
    "x_max = x_train[:, 0].max() + 1\n",
    "y_min = x_train[:, 1].min() - 1\n",
    "y_max = x_train[:, 1].max() + 1\n",
    "\n",
    "xx, yy = np.meshgrid(np.linspace(x_min, x_max, 300),\n",
    "                     np.linspace(y_min, y_max, 300))\n",
    "\n",
    "grid = np.c_[xx.ravel(), yy.ravel()]\n",
    "grid_extended = poly.transform(grid)\n",
    "\n",
    "Z = lda.decision_function(grid_extended)\n",
    "Z = Z.reshape(xx.shape)\n",
    "\n",
    "plt.contour(xx, yy, Z, levels=[0.5], colors='black', linewidths=2)\n",
    "\n",
    "color_map = {'Hombre': 'blue', 'Mujer': 'red'}\n",
    "point_colors = [color_map[label] for label in y_train]\n",
    "\n",
    "plt.scatter(x_train[:, 0], x_train[:, 1], c=point_colors, cmap='viridis', edgecolor='k', s=30)\n",
    "plt.xlabel(\"Pesos [kg]\")\n",
    "plt.ylabel(\"Alturas [cm]\")\n",
    "plt.title(\"Decision Boundary in Original 2D Space\")\n",
    "plt.show()"
   ]
  },
  {
   "cell_type": "markdown",
   "metadata": {},
   "source": [
    "**Observaciones:** \n",
    "- ahora el modelo tienen 5 parametros de entrada que se ven reflejados en que los weights ahora son un arreglo de 5 elementos.\n",
    "- el accuracy se mantuvo alrededor del 92%\n",
    "- al tener ahora 5 parametros se sigue teniendo un umbral de decision que es lineal, pero en 5D. En el espacio 2D original, deja de ser lineal."
   ]
  },
  {
   "cell_type": "markdown",
   "metadata": {},
   "source": [
    "LogisticRegression"
   ]
  },
  {
   "cell_type": "code",
   "execution_count": 77,
   "metadata": {},
   "outputs": [
    {
     "name": "stdout",
     "output_type": "stream",
     "text": [
      "Accuracy: 92.2 %\n",
      "Coeficientes: [[-0.42868627  0.18551927]]\n",
      "Intercept: [0.00347471]\n"
     ]
    }
   ],
   "source": [
    "from sklearn.linear_model import LogisticRegression\n",
    "\n",
    "lr = LogisticRegression(C=1e12)\n",
    "lr.fit(x_train, y_train)\n",
    "y_pred = lr.predict(x_test)\n",
    "acc_lr = accuracy_score(y_test, y_pred)\n",
    "print(f\"Accuracy: {acc_lr*100} %\")\n",
    "\n",
    "# Parámetros del modelo\n",
    "print(f\"Coeficientes: {lr.coef_}\")\n",
    "print(f\"Intercept: {lr.intercept_}\")"
   ]
  },
  {
   "cell_type": "code",
   "execution_count": 78,
   "metadata": {},
   "outputs": [
    {
     "name": "stderr",
     "output_type": "stream",
     "text": [
      "qt.qpa.wayland: Wayland does not support QWindow::requestActivate()\n",
      "qt.qpa.wayland: Wayland does not support QWindow::requestActivate()\n"
     ]
    }
   ],
   "source": [
    "x_min = x_train[:, 0].min() - 1\n",
    "x_max = x_train[:, 0].max() + 1\n",
    "y_min = x_train[:, 1].min() - 1\n",
    "y_max = x_train[:, 1].max() + 1\n",
    "\n",
    "xx, yy = np.meshgrid(np.linspace(x_min, x_max, 500),\n",
    "                     np.linspace(y_min, y_max, 500))\n",
    "\n",
    "grid = np.c_[xx.ravel(), yy.ravel()]\n",
    "\n",
    "probs = lr.predict_proba(grid)\n",
    "male_probs = probs[:, 1].reshape(xx.shape)\n",
    "\n",
    "levels = np.linspace(0, 1, 100)\n",
    "plt.contourf(xx, yy, male_probs, alpha=0.5, cmap=plt.cm.RdBu_r)\n",
    "\n",
    "plt.contour(xx, yy, male_probs, levels=[0.5], colors='black', linewidths=2)\n",
    "\n",
    "color_map = {'Mujer': 'red', 'Hombre': 'blue'}\n",
    "point_colors = [color_map[label] for label in y_train]\n",
    "\n",
    "plt.scatter(x_train[:, 0], x_train[:, 1], c=point_colors, edgecolors='k', s=30)\n",
    "\n",
    "plt.xlabel(\"Pesos [kg]\")\n",
    "plt.ylabel(\"Altura [cm]\")\n",
    "plt.title(\"Logistic Regression Decision Boundary\")\n",
    "plt.show()"
   ]
  }
 ],
 "metadata": {
  "kernelspec": {
   "display_name": "nn",
   "language": "python",
   "name": "python3"
  },
  "language_info": {
   "codemirror_mode": {
    "name": "ipython",
    "version": 3
   },
   "file_extension": ".py",
   "mimetype": "text/x-python",
   "name": "python",
   "nbconvert_exporter": "python",
   "pygments_lexer": "ipython3",
   "version": "3.13.1"
  }
 },
 "nbformat": 4,
 "nbformat_minor": 2
}
