{
 "cells": [
  {
   "cell_type": "code",
   "execution_count": 1,
   "metadata": {},
   "outputs": [],
   "source": [
    "import pandas as pd\n",
    "import numpy as np\n",
    "from matplotlib import pyplot as plt\n",
    "import pandas as pd\n",
    "from collections import Counter\n",
    "from mpl_toolkits.mplot3d import Axes3D\n",
    "from scipy.stats import multivariate_normal\n"
   ]
  },
  {
   "cell_type": "code",
   "execution_count": 2,
   "metadata": {},
   "outputs": [],
   "source": [
    "train_df = pd.read_csv(\"data/alturas-pesos-mils-train.csv\")\n",
    "test_df = pd.read_csv(\"data/alturas-pesos-mils-test.csv\")"
   ]
  },
  {
   "cell_type": "code",
   "execution_count": 3,
   "metadata": {},
   "outputs": [
    {
     "data": {
      "text/html": [
       "<div>\n",
       "<style scoped>\n",
       "    .dataframe tbody tr th:only-of-type {\n",
       "        vertical-align: middle;\n",
       "    }\n",
       "\n",
       "    .dataframe tbody tr th {\n",
       "        vertical-align: top;\n",
       "    }\n",
       "\n",
       "    .dataframe thead th {\n",
       "        text-align: right;\n",
       "    }\n",
       "</style>\n",
       "<table border=\"1\" class=\"dataframe\">\n",
       "  <thead>\n",
       "    <tr style=\"text-align: right;\">\n",
       "      <th></th>\n",
       "      <th>Unnamed: 0</th>\n",
       "      <th>Genero</th>\n",
       "      <th>Peso</th>\n",
       "      <th>Altura</th>\n",
       "    </tr>\n",
       "  </thead>\n",
       "  <tbody>\n",
       "    <tr>\n",
       "      <th>0</th>\n",
       "      <td>7620</td>\n",
       "      <td>Mujer</td>\n",
       "      <td>61.235</td>\n",
       "      <td>162.402</td>\n",
       "    </tr>\n",
       "    <tr>\n",
       "      <th>1</th>\n",
       "      <td>1837</td>\n",
       "      <td>Hombre</td>\n",
       "      <td>97.432</td>\n",
       "      <td>181.908</td>\n",
       "    </tr>\n",
       "    <tr>\n",
       "      <th>2</th>\n",
       "      <td>3311</td>\n",
       "      <td>Hombre</td>\n",
       "      <td>73.324</td>\n",
       "      <td>172.459</td>\n",
       "    </tr>\n",
       "    <tr>\n",
       "      <th>3</th>\n",
       "      <td>9478</td>\n",
       "      <td>Mujer</td>\n",
       "      <td>55.193</td>\n",
       "      <td>157.748</td>\n",
       "    </tr>\n",
       "    <tr>\n",
       "      <th>4</th>\n",
       "      <td>7805</td>\n",
       "      <td>Mujer</td>\n",
       "      <td>56.886</td>\n",
       "      <td>151.798</td>\n",
       "    </tr>\n",
       "    <tr>\n",
       "      <th>...</th>\n",
       "      <td>...</td>\n",
       "      <td>...</td>\n",
       "      <td>...</td>\n",
       "      <td>...</td>\n",
       "    </tr>\n",
       "    <tr>\n",
       "      <th>7995</th>\n",
       "      <td>6395</td>\n",
       "      <td>Mujer</td>\n",
       "      <td>62.215</td>\n",
       "      <td>160.083</td>\n",
       "    </tr>\n",
       "    <tr>\n",
       "      <th>7996</th>\n",
       "      <td>2714</td>\n",
       "      <td>Hombre</td>\n",
       "      <td>83.840</td>\n",
       "      <td>177.866</td>\n",
       "    </tr>\n",
       "    <tr>\n",
       "      <th>7997</th>\n",
       "      <td>3476</td>\n",
       "      <td>Hombre</td>\n",
       "      <td>75.461</td>\n",
       "      <td>170.910</td>\n",
       "    </tr>\n",
       "    <tr>\n",
       "      <th>7998</th>\n",
       "      <td>7084</td>\n",
       "      <td>Mujer</td>\n",
       "      <td>65.461</td>\n",
       "      <td>166.137</td>\n",
       "    </tr>\n",
       "    <tr>\n",
       "      <th>7999</th>\n",
       "      <td>3346</td>\n",
       "      <td>Hombre</td>\n",
       "      <td>80.323</td>\n",
       "      <td>171.575</td>\n",
       "    </tr>\n",
       "  </tbody>\n",
       "</table>\n",
       "<p>8000 rows × 4 columns</p>\n",
       "</div>"
      ],
      "text/plain": [
       "      Unnamed: 0  Genero    Peso   Altura\n",
       "0           7620   Mujer  61.235  162.402\n",
       "1           1837  Hombre  97.432  181.908\n",
       "2           3311  Hombre  73.324  172.459\n",
       "3           9478   Mujer  55.193  157.748\n",
       "4           7805   Mujer  56.886  151.798\n",
       "...          ...     ...     ...      ...\n",
       "7995        6395   Mujer  62.215  160.083\n",
       "7996        2714  Hombre  83.840  177.866\n",
       "7997        3476  Hombre  75.461  170.910\n",
       "7998        7084   Mujer  65.461  166.137\n",
       "7999        3346  Hombre  80.323  171.575\n",
       "\n",
       "[8000 rows x 4 columns]"
      ]
     },
     "execution_count": 3,
     "metadata": {},
     "output_type": "execute_result"
    }
   ],
   "source": [
    "train_df"
   ]
  },
  {
   "cell_type": "code",
   "execution_count": 4,
   "metadata": {},
   "outputs": [],
   "source": [
    "features = ['Peso', 'Altura']\n",
    "target = 'Genero'\n",
    "\n",
    "x_train = train_df[features].values\n",
    "y_train = train_df[target].values\n",
    "\n",
    "x_test = test_df[features].values\n",
    "y_test = test_df[target].values"
   ]
  },
  {
   "cell_type": "code",
   "execution_count": 5,
   "metadata": {},
   "outputs": [
    {
     "name": "stdout",
     "output_type": "stream",
     "text": [
      "['Hombre' 'Mujer']\n"
     ]
    }
   ],
   "source": [
    "classes = np.unique(y_train)\n",
    "num_classes = len(classes)\n",
    "n_features = x_train.shape[1]\n",
    "\n",
    "print(classes)"
   ]
  },
  {
   "cell_type": "code",
   "execution_count": 6,
   "metadata": {},
   "outputs": [],
   "source": [
    "# Compute class priors and means for each class\n",
    "priors = {}\n",
    "means = {}\n",
    "for c in classes:\n",
    "    X_c = x_train[y_train == c]\n",
    "    priors[c] = X_c.shape[0] / x_train.shape[0]\n",
    "    means[c] = np.mean(X_c, axis=0)"
   ]
  },
  {
   "cell_type": "code",
   "execution_count": 7,
   "metadata": {},
   "outputs": [
    {
     "data": {
      "text/plain": [
       "{'Hombre': 0.50025, 'Mujer': 0.49975}"
      ]
     },
     "execution_count": 7,
     "metadata": {},
     "output_type": "execute_result"
    }
   ],
   "source": [
    "priors"
   ]
  },
  {
   "cell_type": "code",
   "execution_count": 8,
   "metadata": {},
   "outputs": [
    {
     "data": {
      "text/plain": [
       "{'Hombre': array([ 84.45539805, 174.91533033]),\n",
       " 'Mujer': array([ 61.13789495, 161.30471261])}"
      ]
     },
     "execution_count": 8,
     "metadata": {},
     "output_type": "execute_result"
    }
   ],
   "source": [
    "means"
   ]
  },
  {
   "cell_type": "code",
   "execution_count": 9,
   "metadata": {},
   "outputs": [],
   "source": [
    "# Compute the pooled covariance matrix\n",
    "pooled_cov = np.zeros((n_features, n_features))\n",
    "for c in classes:\n",
    "    x_c = x_train[y_train == c]\n",
    "    # np.cov with rowvar=False returns the covariance matrix for features (normalized by N-1)\n",
    "    cov_c = np.cov(x_c, rowvar=False)\n",
    "    pooled_cov += (x_c.shape[0] - 1) * cov_c\n",
    "\n",
    "pooled_cov = pooled_cov / (x_train.shape[0] - num_classes)\n",
    "\n",
    "# Inverse of the pooled covariance matrix\n",
    "inv_cov = np.linalg.inv(pooled_cov)"
   ]
  },
  {
   "cell_type": "code",
   "execution_count": 10,
   "metadata": {},
   "outputs": [
    {
     "data": {
      "text/plain": [
       "array([ 72.80247587, 168.11342412])"
      ]
     },
     "execution_count": 10,
     "metadata": {},
     "output_type": "execute_result"
    }
   ],
   "source": [
    "np.mean(x_train, axis=0)"
   ]
  },
  {
   "cell_type": "code",
   "execution_count": 11,
   "metadata": {},
   "outputs": [
    {
     "data": {
      "text/plain": [
       "array([[-59.22295, -23.02595, -47.13395, ..., -44.99695, -54.99695,\n",
       "        -40.13495],\n",
       "       [ 41.94405,  61.45005,  52.00105, ...,  50.45205,  45.67905,\n",
       "         51.11705]], shape=(2, 8000))"
      ]
     },
     "execution_count": 11,
     "metadata": {},
     "output_type": "execute_result"
    }
   ],
   "source": [
    "(x_train - np.mean(x_train)).T"
   ]
  },
  {
   "cell_type": "code",
   "execution_count": 12,
   "metadata": {},
   "outputs": [],
   "source": [
    "x_train_male = train_df.loc[train_df['Genero']=='Hombre'][['Peso', 'Altura']].values\n",
    "x_train_female = train_df.loc[train_df['Genero']=='Mujer'][['Peso', 'Altura']].values\n",
    "\n",
    "cov = np.cov(np.vstack([x_train_male - means['Hombre'], x_train_female - means['Mujer']]).T)"
   ]
  },
  {
   "cell_type": "code",
   "execution_count": 13,
   "metadata": {},
   "outputs": [
    {
     "name": "stdout",
     "output_type": "stream",
     "text": [
      "pooled_cov: [[77.94810827 53.53142632]\n",
      " [53.53142632 50.29787332]]\n",
      " non_pooled_cov: [[77.93836353 53.52473405]\n",
      " [53.52473405 50.2915853 ]]\n"
     ]
    }
   ],
   "source": [
    "print(f\"pooled_cov: {pooled_cov}\\n non_pooled_cov: {cov}\")"
   ]
  },
  {
   "cell_type": "code",
   "execution_count": 14,
   "metadata": {},
   "outputs": [],
   "source": [
    "def get_gauss_prob(data, means, priors, cov):\n",
    "    data_np = data\n",
    "    p_class = {}\n",
    "    \n",
    "    L_male = multivariate_normal.pdf(data_np, means['Hombre'], cov)\n",
    "    L_female = multivariate_normal.pdf(data_np, means['Mujer'], cov)\n",
    "    p_total = L_male * priors['Hombre'] + L_female * priors['Mujer']\n",
    "    p_class['Hombre'] = L_male * priors['Hombre'] / p_total\n",
    "    p_class['Mujer'] = L_female * priors['Mujer'] / p_total\n",
    "\n",
    "    return p_class\n"
   ]
  },
  {
   "cell_type": "code",
   "execution_count": 31,
   "metadata": {},
   "outputs": [],
   "source": [
    "def get_acc_gauss(p_class, data):\n",
    "    return (((p_class['Hombre'] > p_class['Mujer']) == (data['Genero'] == 'Hombre')).sum() / len(p_class['Hombre']))"
   ]
  },
  {
   "cell_type": "code",
   "execution_count": 36,
   "metadata": {},
   "outputs": [
    {
     "name": "stdout",
     "output_type": "stream",
     "text": [
      "Train Accuracy: 91.675 %\n"
     ]
    }
   ],
   "source": [
    "p_class = get_gauss_prob(x_train, means, priors, cov)\n",
    "acc_train = get_acc_gauss(p_class, train_df)\n",
    "print(f\"Train Accuracy: {acc_train*100} %\")"
   ]
  },
  {
   "cell_type": "code",
   "execution_count": 37,
   "metadata": {},
   "outputs": [
    {
     "name": "stdout",
     "output_type": "stream",
     "text": [
      "Test Accuracy: 92.25 %\n"
     ]
    }
   ],
   "source": [
    "p_class = get_gauss_prob(x_test, means, priors, cov)\n",
    "acc_test = get_acc_gauss(p_class, test_df)\n",
    "print(f\"Test Accuracy: {acc_test*100} %\")"
   ]
  },
  {
   "cell_type": "code",
   "execution_count": 39,
   "metadata": {},
   "outputs": [],
   "source": [
    "N = 300\n",
    "X = np.linspace(train_df.min()['Peso'], train_df.max()['Peso'], N)\n",
    "Y = np.linspace(train_df.min()['Altura'], train_df.max()['Altura'], N)\n",
    "X, Y = np.meshgrid(X, Y)\n",
    "\n",
    "# Pack X and Y into a single 3-dimensional array\n",
    "pos = np.empty(X.shape + (2,))\n",
    "pos[:, :, 0] = X\n",
    "pos[:, :, 1] = Y\n",
    "\n",
    "# The distribution on the variables X, Y packed into pos.\n",
    "Z_H_LDA = multivariate_normal.pdf(pos, means['Hombre'], cov)\n",
    "Z_M_LDA = multivariate_normal.pdf(pos, means['Mujer'], cov)\n",
    "Z_LDA, _ = get_gauss_prob(x_train, means, priors, cov)"
   ]
  },
  {
   "cell_type": "code",
   "execution_count": 41,
   "metadata": {},
   "outputs": [
    {
     "ename": "ImportError",
     "evalue": "Failed to import any of the following Qt binding modules: PyQt6, PySide6, PyQt5, PySide2",
     "output_type": "error",
     "traceback": [
      "\u001b[31m---------------------------------------------------------------------------\u001b[39m",
      "\u001b[31mImportError\u001b[39m                               Traceback (most recent call last)",
      "\u001b[36mCell\u001b[39m\u001b[36m \u001b[39m\u001b[32mIn[41]\u001b[39m\u001b[32m, line 4\u001b[39m\n\u001b[32m      2\u001b[39m \u001b[38;5;28;01mfrom\u001b[39;00m\u001b[38;5;250m \u001b[39m\u001b[34;01mmpl_toolkits\u001b[39;00m\u001b[34;01m.\u001b[39;00m\u001b[34;01mmplot3d\u001b[39;00m\u001b[38;5;250m \u001b[39m\u001b[38;5;28;01mimport\u001b[39;00m Axes3D\n\u001b[32m      3\u001b[39m \u001b[38;5;28;01mfrom\u001b[39;00m\u001b[38;5;250m \u001b[39m\u001b[34;01mmatplotlib\u001b[39;00m\u001b[34;01m.\u001b[39;00m\u001b[34;01mcolors\u001b[39;00m\u001b[38;5;250m \u001b[39m\u001b[38;5;28;01mimport\u001b[39;00m ListedColormap\n\u001b[32m----> \u001b[39m\u001b[32m4\u001b[39m fig = \u001b[43mplt\u001b[49m\u001b[43m.\u001b[49m\u001b[43mfigure\u001b[49m\u001b[43m(\u001b[49m\u001b[43mfigsize\u001b[49m\u001b[43m=\u001b[49m\u001b[43m(\u001b[49m\u001b[32;43m20\u001b[39;49m\u001b[43m,\u001b[49m\u001b[32;43m10\u001b[39;49m\u001b[43m)\u001b[49m\u001b[43m)\u001b[49m\n\u001b[32m      5\u001b[39m ax = fig.gca(projection=\u001b[33m'\u001b[39m\u001b[33m3d\u001b[39m\u001b[33m'\u001b[39m)\n\u001b[32m      6\u001b[39m cm = plt.cm.RdBu\n",
      "\u001b[36mFile \u001b[39m\u001b[32m~/itba/redes/itba-rn-lda/nn/lib/python3.13/site-packages/matplotlib/pyplot.py:1042\u001b[39m, in \u001b[36mfigure\u001b[39m\u001b[34m(num, figsize, dpi, facecolor, edgecolor, frameon, FigureClass, clear, **kwargs)\u001b[39m\n\u001b[32m   1032\u001b[39m \u001b[38;5;28;01mif\u001b[39;00m \u001b[38;5;28mlen\u001b[39m(allnums) == max_open_warning >= \u001b[32m1\u001b[39m:\n\u001b[32m   1033\u001b[39m     _api.warn_external(\n\u001b[32m   1034\u001b[39m         \u001b[33mf\u001b[39m\u001b[33m\"\u001b[39m\u001b[33mMore than \u001b[39m\u001b[38;5;132;01m{\u001b[39;00mmax_open_warning\u001b[38;5;132;01m}\u001b[39;00m\u001b[33m figures have been opened. \u001b[39m\u001b[33m\"\u001b[39m\n\u001b[32m   1035\u001b[39m         \u001b[33mf\u001b[39m\u001b[33m\"\u001b[39m\u001b[33mFigures created through the pyplot interface \u001b[39m\u001b[33m\"\u001b[39m\n\u001b[32m   (...)\u001b[39m\u001b[32m   1039\u001b[39m         \u001b[33mf\u001b[39m\u001b[33m\"\u001b[39m\u001b[33mConsider using `matplotlib.pyplot.close()`.\u001b[39m\u001b[33m\"\u001b[39m,\n\u001b[32m   1040\u001b[39m         \u001b[38;5;167;01mRuntimeWarning\u001b[39;00m)\n\u001b[32m-> \u001b[39m\u001b[32m1042\u001b[39m manager = \u001b[43mnew_figure_manager\u001b[49m\u001b[43m(\u001b[49m\n\u001b[32m   1043\u001b[39m \u001b[43m    \u001b[49m\u001b[43mnum\u001b[49m\u001b[43m,\u001b[49m\u001b[43m \u001b[49m\u001b[43mfigsize\u001b[49m\u001b[43m=\u001b[49m\u001b[43mfigsize\u001b[49m\u001b[43m,\u001b[49m\u001b[43m \u001b[49m\u001b[43mdpi\u001b[49m\u001b[43m=\u001b[49m\u001b[43mdpi\u001b[49m\u001b[43m,\u001b[49m\n\u001b[32m   1044\u001b[39m \u001b[43m    \u001b[49m\u001b[43mfacecolor\u001b[49m\u001b[43m=\u001b[49m\u001b[43mfacecolor\u001b[49m\u001b[43m,\u001b[49m\u001b[43m \u001b[49m\u001b[43medgecolor\u001b[49m\u001b[43m=\u001b[49m\u001b[43medgecolor\u001b[49m\u001b[43m,\u001b[49m\u001b[43m \u001b[49m\u001b[43mframeon\u001b[49m\u001b[43m=\u001b[49m\u001b[43mframeon\u001b[49m\u001b[43m,\u001b[49m\n\u001b[32m   1045\u001b[39m \u001b[43m    \u001b[49m\u001b[43mFigureClass\u001b[49m\u001b[43m=\u001b[49m\u001b[43mFigureClass\u001b[49m\u001b[43m,\u001b[49m\u001b[43m \u001b[49m\u001b[43m*\u001b[49m\u001b[43m*\u001b[49m\u001b[43mkwargs\u001b[49m\u001b[43m)\u001b[49m\n\u001b[32m   1046\u001b[39m fig = manager.canvas.figure\n\u001b[32m   1047\u001b[39m \u001b[38;5;28;01mif\u001b[39;00m fig_label:\n",
      "\u001b[36mFile \u001b[39m\u001b[32m~/itba/redes/itba-rn-lda/nn/lib/python3.13/site-packages/matplotlib/pyplot.py:551\u001b[39m, in \u001b[36mnew_figure_manager\u001b[39m\u001b[34m(*args, **kwargs)\u001b[39m\n\u001b[32m    549\u001b[39m \u001b[38;5;28;01mdef\u001b[39;00m\u001b[38;5;250m \u001b[39m\u001b[34mnew_figure_manager\u001b[39m(*args, **kwargs):\n\u001b[32m    550\u001b[39m \u001b[38;5;250m    \u001b[39m\u001b[33;03m\"\"\"Create a new figure manager instance.\"\"\"\u001b[39;00m\n\u001b[32m--> \u001b[39m\u001b[32m551\u001b[39m     \u001b[43m_warn_if_gui_out_of_main_thread\u001b[49m\u001b[43m(\u001b[49m\u001b[43m)\u001b[49m\n\u001b[32m    552\u001b[39m     \u001b[38;5;28;01mreturn\u001b[39;00m _get_backend_mod().new_figure_manager(*args, **kwargs)\n",
      "\u001b[36mFile \u001b[39m\u001b[32m~/itba/redes/itba-rn-lda/nn/lib/python3.13/site-packages/matplotlib/pyplot.py:528\u001b[39m, in \u001b[36m_warn_if_gui_out_of_main_thread\u001b[39m\u001b[34m()\u001b[39m\n\u001b[32m    526\u001b[39m \u001b[38;5;28;01mdef\u001b[39;00m\u001b[38;5;250m \u001b[39m\u001b[34m_warn_if_gui_out_of_main_thread\u001b[39m() -> \u001b[38;5;28;01mNone\u001b[39;00m:\n\u001b[32m    527\u001b[39m     warn = \u001b[38;5;28;01mFalse\u001b[39;00m\n\u001b[32m--> \u001b[39m\u001b[32m528\u001b[39m     canvas_class = cast(\u001b[38;5;28mtype\u001b[39m[FigureCanvasBase], \u001b[43m_get_backend_mod\u001b[49m\u001b[43m(\u001b[49m\u001b[43m)\u001b[49m.FigureCanvas)\n\u001b[32m    529\u001b[39m     \u001b[38;5;28;01mif\u001b[39;00m canvas_class.required_interactive_framework:\n\u001b[32m    530\u001b[39m         \u001b[38;5;28;01mif\u001b[39;00m \u001b[38;5;28mhasattr\u001b[39m(threading, \u001b[33m'\u001b[39m\u001b[33mget_native_id\u001b[39m\u001b[33m'\u001b[39m):\n\u001b[32m    531\u001b[39m             \u001b[38;5;66;03m# This compares native thread ids because even if Python-level\u001b[39;00m\n\u001b[32m    532\u001b[39m             \u001b[38;5;66;03m# Thread objects match, the underlying OS thread (which is what\u001b[39;00m\n\u001b[32m    533\u001b[39m             \u001b[38;5;66;03m# really matters) may be different on Python implementations with\u001b[39;00m\n\u001b[32m    534\u001b[39m             \u001b[38;5;66;03m# green threads.\u001b[39;00m\n",
      "\u001b[36mFile \u001b[39m\u001b[32m~/itba/redes/itba-rn-lda/nn/lib/python3.13/site-packages/matplotlib/pyplot.py:369\u001b[39m, in \u001b[36m_get_backend_mod\u001b[39m\u001b[34m()\u001b[39m\n\u001b[32m    360\u001b[39m \u001b[38;5;250m\u001b[39m\u001b[33;03m\"\"\"\u001b[39;00m\n\u001b[32m    361\u001b[39m \u001b[33;03mEnsure that a backend is selected and return it.\u001b[39;00m\n\u001b[32m    362\u001b[39m \n\u001b[32m    363\u001b[39m \u001b[33;03mThis is currently private, but may be made public in the future.\u001b[39;00m\n\u001b[32m    364\u001b[39m \u001b[33;03m\"\"\"\u001b[39;00m\n\u001b[32m    365\u001b[39m \u001b[38;5;28;01mif\u001b[39;00m _backend_mod \u001b[38;5;129;01mis\u001b[39;00m \u001b[38;5;28;01mNone\u001b[39;00m:\n\u001b[32m    366\u001b[39m     \u001b[38;5;66;03m# Use rcParams._get(\"backend\") to avoid going through the fallback\u001b[39;00m\n\u001b[32m    367\u001b[39m     \u001b[38;5;66;03m# logic (which will (re)import pyplot and then call switch_backend if\u001b[39;00m\n\u001b[32m    368\u001b[39m     \u001b[38;5;66;03m# we need to resolve the auto sentinel)\u001b[39;00m\n\u001b[32m--> \u001b[39m\u001b[32m369\u001b[39m     \u001b[43mswitch_backend\u001b[49m\u001b[43m(\u001b[49m\u001b[43mrcParams\u001b[49m\u001b[43m.\u001b[49m\u001b[43m_get\u001b[49m\u001b[43m(\u001b[49m\u001b[33;43m\"\u001b[39;49m\u001b[33;43mbackend\u001b[39;49m\u001b[33;43m\"\u001b[39;49m\u001b[43m)\u001b[49m\u001b[43m)\u001b[49m\n\u001b[32m    370\u001b[39m \u001b[38;5;28;01mreturn\u001b[39;00m cast(\u001b[38;5;28mtype\u001b[39m[matplotlib.backend_bases._Backend], _backend_mod)\n",
      "\u001b[36mFile \u001b[39m\u001b[32m~/itba/redes/itba-rn-lda/nn/lib/python3.13/site-packages/matplotlib/pyplot.py:425\u001b[39m, in \u001b[36mswitch_backend\u001b[39m\u001b[34m(newbackend)\u001b[39m\n\u001b[32m    422\u001b[39m         \u001b[38;5;28;01mreturn\u001b[39;00m\n\u001b[32m    423\u001b[39m old_backend = rcParams._get(\u001b[33m'\u001b[39m\u001b[33mbackend\u001b[39m\u001b[33m'\u001b[39m)  \u001b[38;5;66;03m# get without triggering backend resolution\u001b[39;00m\n\u001b[32m--> \u001b[39m\u001b[32m425\u001b[39m module = \u001b[43mbackend_registry\u001b[49m\u001b[43m.\u001b[49m\u001b[43mload_backend_module\u001b[49m\u001b[43m(\u001b[49m\u001b[43mnewbackend\u001b[49m\u001b[43m)\u001b[49m\n\u001b[32m    426\u001b[39m canvas_class = module.FigureCanvas\n\u001b[32m    428\u001b[39m required_framework = canvas_class.required_interactive_framework\n",
      "\u001b[36mFile \u001b[39m\u001b[32m~/itba/redes/itba-rn-lda/nn/lib/python3.13/site-packages/matplotlib/backends/registry.py:317\u001b[39m, in \u001b[36mBackendRegistry.load_backend_module\u001b[39m\u001b[34m(self, backend)\u001b[39m\n\u001b[32m    303\u001b[39m \u001b[38;5;250m\u001b[39m\u001b[33;03m\"\"\"\u001b[39;00m\n\u001b[32m    304\u001b[39m \u001b[33;03mLoad and return the module containing the specified backend.\u001b[39;00m\n\u001b[32m    305\u001b[39m \n\u001b[32m   (...)\u001b[39m\u001b[32m    314\u001b[39m \u001b[33;03m    Module containing backend.\u001b[39;00m\n\u001b[32m    315\u001b[39m \u001b[33;03m\"\"\"\u001b[39;00m\n\u001b[32m    316\u001b[39m module_name = \u001b[38;5;28mself\u001b[39m._backend_module_name(backend)\n\u001b[32m--> \u001b[39m\u001b[32m317\u001b[39m \u001b[38;5;28;01mreturn\u001b[39;00m \u001b[43mimportlib\u001b[49m\u001b[43m.\u001b[49m\u001b[43mimport_module\u001b[49m\u001b[43m(\u001b[49m\u001b[43mmodule_name\u001b[49m\u001b[43m)\u001b[49m\n",
      "\u001b[36mFile \u001b[39m\u001b[32m/usr/lib/python3.13/importlib/__init__.py:88\u001b[39m, in \u001b[36mimport_module\u001b[39m\u001b[34m(name, package)\u001b[39m\n\u001b[32m     86\u001b[39m             \u001b[38;5;28;01mbreak\u001b[39;00m\n\u001b[32m     87\u001b[39m         level += \u001b[32m1\u001b[39m\n\u001b[32m---> \u001b[39m\u001b[32m88\u001b[39m \u001b[38;5;28;01mreturn\u001b[39;00m \u001b[43m_bootstrap\u001b[49m\u001b[43m.\u001b[49m\u001b[43m_gcd_import\u001b[49m\u001b[43m(\u001b[49m\u001b[43mname\u001b[49m\u001b[43m[\u001b[49m\u001b[43mlevel\u001b[49m\u001b[43m:\u001b[49m\u001b[43m]\u001b[49m\u001b[43m,\u001b[49m\u001b[43m \u001b[49m\u001b[43mpackage\u001b[49m\u001b[43m,\u001b[49m\u001b[43m \u001b[49m\u001b[43mlevel\u001b[49m\u001b[43m)\u001b[49m\n",
      "\u001b[36mFile \u001b[39m\u001b[32m<frozen importlib._bootstrap>:1387\u001b[39m, in \u001b[36m_gcd_import\u001b[39m\u001b[34m(name, package, level)\u001b[39m\n",
      "\u001b[36mFile \u001b[39m\u001b[32m<frozen importlib._bootstrap>:1360\u001b[39m, in \u001b[36m_find_and_load\u001b[39m\u001b[34m(name, import_)\u001b[39m\n",
      "\u001b[36mFile \u001b[39m\u001b[32m<frozen importlib._bootstrap>:1331\u001b[39m, in \u001b[36m_find_and_load_unlocked\u001b[39m\u001b[34m(name, import_)\u001b[39m\n",
      "\u001b[36mFile \u001b[39m\u001b[32m<frozen importlib._bootstrap>:935\u001b[39m, in \u001b[36m_load_unlocked\u001b[39m\u001b[34m(spec)\u001b[39m\n",
      "\u001b[36mFile \u001b[39m\u001b[32m<frozen importlib._bootstrap_external>:1026\u001b[39m, in \u001b[36mexec_module\u001b[39m\u001b[34m(self, module)\u001b[39m\n",
      "\u001b[36mFile \u001b[39m\u001b[32m<frozen importlib._bootstrap>:488\u001b[39m, in \u001b[36m_call_with_frames_removed\u001b[39m\u001b[34m(f, *args, **kwds)\u001b[39m\n",
      "\u001b[36mFile \u001b[39m\u001b[32m~/itba/redes/itba-rn-lda/nn/lib/python3.13/site-packages/matplotlib/backends/backend_qtagg.py:9\u001b[39m\n\u001b[32m      5\u001b[39m \u001b[38;5;28;01mimport\u001b[39;00m\u001b[38;5;250m \u001b[39m\u001b[34;01mctypes\u001b[39;00m\n\u001b[32m      7\u001b[39m \u001b[38;5;28;01mfrom\u001b[39;00m\u001b[38;5;250m \u001b[39m\u001b[34;01mmatplotlib\u001b[39;00m\u001b[34;01m.\u001b[39;00m\u001b[34;01mtransforms\u001b[39;00m\u001b[38;5;250m \u001b[39m\u001b[38;5;28;01mimport\u001b[39;00m Bbox\n\u001b[32m----> \u001b[39m\u001b[32m9\u001b[39m \u001b[38;5;28;01mfrom\u001b[39;00m\u001b[38;5;250m \u001b[39m\u001b[34;01m.\u001b[39;00m\u001b[34;01mqt_compat\u001b[39;00m\u001b[38;5;250m \u001b[39m\u001b[38;5;28;01mimport\u001b[39;00m QT_API, QtCore, QtGui\n\u001b[32m     10\u001b[39m \u001b[38;5;28;01mfrom\u001b[39;00m\u001b[38;5;250m \u001b[39m\u001b[34;01m.\u001b[39;00m\u001b[34;01mbackend_agg\u001b[39;00m\u001b[38;5;250m \u001b[39m\u001b[38;5;28;01mimport\u001b[39;00m FigureCanvasAgg\n\u001b[32m     11\u001b[39m \u001b[38;5;28;01mfrom\u001b[39;00m\u001b[38;5;250m \u001b[39m\u001b[34;01m.\u001b[39;00m\u001b[34;01mbackend_qt\u001b[39;00m\u001b[38;5;250m \u001b[39m\u001b[38;5;28;01mimport\u001b[39;00m _BackendQT, FigureCanvasQT\n",
      "\u001b[36mFile \u001b[39m\u001b[32m~/itba/redes/itba-rn-lda/nn/lib/python3.13/site-packages/matplotlib/backends/qt_compat.py:130\u001b[39m\n\u001b[32m    128\u001b[39m         \u001b[38;5;28;01mbreak\u001b[39;00m\n\u001b[32m    129\u001b[39m     \u001b[38;5;28;01melse\u001b[39;00m:\n\u001b[32m--> \u001b[39m\u001b[32m130\u001b[39m         \u001b[38;5;28;01mraise\u001b[39;00m \u001b[38;5;167;01mImportError\u001b[39;00m(\n\u001b[32m    131\u001b[39m             \u001b[33m\"\u001b[39m\u001b[33mFailed to import any of the following Qt binding modules: \u001b[39m\u001b[38;5;132;01m{}\u001b[39;00m\u001b[33m\"\u001b[39m\n\u001b[32m    132\u001b[39m             .format(\u001b[33m\"\u001b[39m\u001b[33m, \u001b[39m\u001b[33m\"\u001b[39m.join([QT_API \u001b[38;5;28;01mfor\u001b[39;00m _, QT_API \u001b[38;5;129;01min\u001b[39;00m _candidates]))\n\u001b[32m    133\u001b[39m         )\n\u001b[32m    134\u001b[39m \u001b[38;5;28;01melse\u001b[39;00m:  \u001b[38;5;66;03m# We should not get there.\u001b[39;00m\n\u001b[32m    135\u001b[39m     \u001b[38;5;28;01mraise\u001b[39;00m \u001b[38;5;167;01mAssertionError\u001b[39;00m(\u001b[33mf\u001b[39m\u001b[33m\"\u001b[39m\u001b[33mUnexpected QT_API: \u001b[39m\u001b[38;5;132;01m{\u001b[39;00mQT_API\u001b[38;5;132;01m}\u001b[39;00m\u001b[33m\"\u001b[39m)\n",
      "\u001b[31mImportError\u001b[39m: Failed to import any of the following Qt binding modules: PyQt6, PySide6, PyQt5, PySide2"
     ]
    }
   ],
   "source": [
    "%matplotlib qt\n",
    "from matplotlib import cm\n",
    "from mpl_toolkits.mplot3d import Axes3D\n",
    "from matplotlib.colors import ListedColormap\n",
    "fig = plt.figure(figsize=(20,10))\n",
    "ax = fig.gca(projection='3d')\n",
    "cm = plt.cm.RdBu\n",
    "#cf = ax.contourf(X, Y, Z, 256, alpha=.8, vmin=0., vmax=1., cmap=cm)\n",
    "#plt.colorbar(cf, ax=ax)\n",
    "ax.contourf(X, Y, Z_H_LDA, 256)\n",
    "ax.contourf(X, Y, Z_M_LDA, 256)\n",
    "ax.view_init(70, -90)\n",
    "ax.set_ylabel('Alturas [cms]')\n",
    "ax.set_xlabel('Pesos [kgs]')\n",
    "plt.show()"
   ]
  }
 ],
 "metadata": {
  "kernelspec": {
   "display_name": "nn",
   "language": "python",
   "name": "python3"
  },
  "language_info": {
   "codemirror_mode": {
    "name": "ipython",
    "version": 3
   },
   "file_extension": ".py",
   "mimetype": "text/x-python",
   "name": "python",
   "nbconvert_exporter": "python",
   "pygments_lexer": "ipython3",
   "version": "3.13.2"
  }
 },
 "nbformat": 4,
 "nbformat_minor": 2
}
