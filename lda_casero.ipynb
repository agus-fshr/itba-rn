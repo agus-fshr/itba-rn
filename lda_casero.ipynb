{
 "cells": [
  {
   "cell_type": "markdown",
   "metadata": {},
   "source": [
    "Integrantes:\n",
    "- Fisher, Agustin\n",
    "- Ruiz, Lucia Ines"
   ]
  },
  {
   "cell_type": "code",
   "execution_count": null,
   "metadata": {},
   "outputs": [],
   "source": [
    "import pandas as pd\n",
    "import numpy as np\n",
    "from matplotlib import pyplot as plt\n",
    "import pandas as pd\n",
    "from collections import Counter\n",
    "from mpl_toolkits.mplot3d import Axes3D\n",
    "from scipy.stats import multivariate_normal"
   ]
  },
  {
   "cell_type": "code",
   "execution_count": null,
   "metadata": {},
   "outputs": [],
   "source": [
    "train_df = pd.read_csv(\"data/alturas-pesos-mils-train.csv\")\n",
    "test_df = pd.read_csv(\"data/alturas-pesos-mils-test.csv\")"
   ]
  },
  {
   "cell_type": "code",
   "execution_count": null,
   "metadata": {},
   "outputs": [],
   "source": [
    "train_df"
   ]
  },
  {
   "cell_type": "markdown",
   "metadata": {},
   "source": [
    "Separamos en datos de train y datos de test. `x` es para las features e `y` es para las classes."
   ]
  },
  {
   "cell_type": "code",
   "execution_count": null,
   "metadata": {},
   "outputs": [],
   "source": [
    "features = ['Peso', 'Altura']\n",
    "target = 'Genero'\n",
    "\n",
    "x_train = train_df[features].values\n",
    "y_train = train_df[target].values\n",
    "\n",
    "x_test = test_df[features].values\n",
    "y_test = test_df[target].values"
   ]
  },
  {
   "cell_type": "markdown",
   "metadata": {},
   "source": [
    "Armamos una tupla con las clases, nro de clases y nro de features."
   ]
  },
  {
   "cell_type": "code",
   "execution_count": null,
   "metadata": {},
   "outputs": [],
   "source": [
    "classes = np.unique(y_train)\n",
    "num_classes = len(classes)\n",
    "n_features = x_train.shape[1]\n",
    "\n",
    "print(classes)"
   ]
  },
  {
   "cell_type": "markdown",
   "metadata": {},
   "source": [
    "Computamos las probabilidades a priori y medias"
   ]
  },
  {
   "cell_type": "code",
   "execution_count": null,
   "metadata": {},
   "outputs": [],
   "source": [
    "priors = {}\n",
    "means = {}\n",
    "for c in classes:\n",
    "    X_c = x_train[y_train == c]\n",
    "    priors[c] = X_c.shape[0] / x_train.shape[0]\n",
    "    means[c] = np.mean(X_c, axis=0)"
   ]
  },
  {
   "cell_type": "code",
   "execution_count": null,
   "metadata": {},
   "outputs": [],
   "source": [
    "priors"
   ]
  },
  {
   "cell_type": "code",
   "execution_count": null,
   "metadata": {},
   "outputs": [],
   "source": [
    "means"
   ]
  },
  {
   "cell_type": "code",
   "execution_count": null,
   "metadata": {},
   "outputs": [],
   "source": [
    "np.mean(x_train, axis=0)"
   ]
  },
  {
   "cell_type": "markdown",
   "metadata": {},
   "source": [
    "Calculamos la covarianza"
   ]
  },
  {
   "cell_type": "code",
   "execution_count": null,
   "metadata": {},
   "outputs": [],
   "source": [
    "x_train_male = train_df.loc[train_df['Genero']=='Hombre'][['Peso', 'Altura']].values\n",
    "x_train_female = train_df.loc[train_df['Genero']=='Mujer'][['Peso', 'Altura']].values\n",
    "\n",
    "cov = np.cov(np.vstack([x_train_male - means['Hombre'], x_train_female - means['Mujer']]).T)"
   ]
  },
  {
   "cell_type": "code",
   "execution_count": null,
   "metadata": {},
   "outputs": [],
   "source": [
    "print(f\"Covariance: {cov}\")"
   ]
  },
  {
   "cell_type": "code",
   "execution_count": null,
   "metadata": {},
   "outputs": [],
   "source": [
    "def get_gauss_prob(data, means, priors, cov):\n",
    "    data_np = data\n",
    "    p_class = {}\n",
    "    \n",
    "    L_male = multivariate_normal.pdf(data_np, means['Hombre'], cov)\n",
    "    L_female = multivariate_normal.pdf(data_np, means['Mujer'], cov)\n",
    "    p_total = L_male * priors['Hombre'] + L_female * priors['Mujer']\n",
    "    p_class['Hombre'] = L_male * priors['Hombre'] / p_total\n",
    "    p_class['Mujer'] = L_female * priors['Mujer'] / p_total\n",
    "\n",
    "    return p_class\n"
   ]
  },
  {
   "cell_type": "code",
   "execution_count": null,
   "metadata": {},
   "outputs": [],
   "source": [
    "def get_acc_gauss(p_class, data):\n",
    "    return (((p_class['Hombre'] > p_class['Mujer']) == (data['Genero'] == 'Hombre')).sum() / len(p_class['Hombre']))"
   ]
  },
  {
   "cell_type": "markdown",
   "metadata": {},
   "source": [
    "Calculamos accuracy de training y test"
   ]
  },
  {
   "cell_type": "code",
   "execution_count": null,
   "metadata": {},
   "outputs": [],
   "source": [
    "p_class = get_gauss_prob(x_train, means, priors, cov)\n",
    "acc_train = get_acc_gauss(p_class, train_df)\n",
    "print(f\"Train Accuracy: {acc_train*100} %\")"
   ]
  },
  {
   "cell_type": "code",
   "execution_count": null,
   "metadata": {},
   "outputs": [],
   "source": [
    "p_class = get_gauss_prob(x_test, means, priors, cov)\n",
    "acc_test = get_acc_gauss(p_class, test_df)\n",
    "print(f\"Test Accuracy: {acc_test*100} %\")"
   ]
  },
  {
   "cell_type": "markdown",
   "metadata": {},
   "source": [
    "Graficamos en 3D"
   ]
  },
  {
   "cell_type": "code",
   "execution_count": null,
   "metadata": {},
   "outputs": [],
   "source": [
    "N = 300\n",
    "X = np.linspace(train_df.min()['Peso'], train_df.max()['Peso'], N)\n",
    "Y = np.linspace(train_df.min()['Altura'], train_df.max()['Altura'], N)\n",
    "X, Y = np.meshgrid(X, Y)\n",
    "\n",
    "# Pack X and Y into a single 3-dimensional array\n",
    "pos = np.empty(X.shape + (2,))\n",
    "pos[:, :, 0] = X\n",
    "pos[:, :, 1] = Y\n",
    "\n",
    "# The distribution on the variables X, Y packed into pos.\n",
    "Z_H_LDA = multivariate_normal.pdf(pos, means['Hombre'], cov)\n",
    "Z_M_LDA = multivariate_normal.pdf(pos, means['Mujer'], cov)\n",
    "Z_LDA = get_gauss_prob(x_train, means, priors, cov)['Hombre'], get_gauss_prob(x_train, means, priors, cov)['Mujer']"
   ]
  },
  {
   "cell_type": "code",
   "execution_count": null,
   "metadata": {},
   "outputs": [],
   "source": [
    "%matplotlib qt\n",
    "from matplotlib import cm\n",
    "from mpl_toolkits.mplot3d import Axes3D\n",
    "from matplotlib.colors import ListedColormap\n",
    "fig = plt.figure(figsize=(20,10))\n",
    "ax = fig.add_subplot(projection='3d')\n",
    "cm = plt.cm.RdBu\n",
    "#cf = ax.contourf(X, Y, Z, 256, alpha=.8, vmin=0., vmax=1., cmap=cm)\n",
    "#plt.colorbar(cf, ax=ax)\n",
    "ax.contourf(X, Y, Z_H_LDA, 256)\n",
    "ax.contourf(X, Y, Z_M_LDA, 256)\n",
    "ax.view_init(70, -90)\n",
    "ax.set_ylabel('Alturas [cms]')\n",
    "ax.set_xlabel('Pesos [kgs]')\n",
    "plt.show()"
   ]
  },
  {
   "cell_type": "markdown",
   "metadata": {},
   "source": [
    "Ahora, la implementacion con SKLearn"
   ]
  },
  {
   "cell_type": "code",
   "execution_count": null,
   "metadata": {},
   "outputs": [],
   "source": [
    "# sigo teniendo las mismas features y x_train, etc...\n",
    "\n",
    "from sklearn.discriminant_analysis import LinearDiscriminantAnalysis\n",
    "from sklearn.metrics import accuracy_score\n",
    "\n",
    "def sk_lda_full(x_train, y_train, x_test, y_test):\n",
    "    lda = LinearDiscriminantAnalysis(priors=None)\n",
    "    lda.fit(x_train, y_train)\n",
    "    y_pred = lda.predict(x_test)\n",
    "    acc_sk = accuracy_score(y_test, y_pred)\n",
    "    return lda, acc_sk\n",
    "\n"
   ]
  },
  {
   "cell_type": "code",
   "execution_count": null,
   "metadata": {},
   "outputs": [],
   "source": [
    "lda_normal, acc_normal = sk_lda_full(x_train, y_train, x_test, y_test)"
   ]
  },
  {
   "cell_type": "code",
   "execution_count": null,
   "metadata": {},
   "outputs": [],
   "source": [
    "# https://scikit-learn.org/stable/modules/generated/sklearn.discriminant_analysis.LinearDiscriminantAnalysis.html\n",
    "print(f\"Means: {lda_normal.means_}\")\n",
    "print(f\"Priors: {lda_normal.priors_}\")\n"
   ]
  },
  {
   "cell_type": "code",
   "execution_count": null,
   "metadata": {},
   "outputs": [],
   "source": [
    "N = 300\n",
    "X = np.linspace(train_df.min()['Peso'], train_df.max()['Peso'], N)\n",
    "Y = np.linspace(train_df.min()['Altura'], train_df.max()['Altura'], N)\n",
    "X, Y = np.meshgrid(X, Y)\n",
    "\n",
    "# Pack X and Y into a single 3-dimensional array\n",
    "pos = np.empty(X.shape + (2,))\n",
    "pos[:, :, 0] = X\n",
    "pos[:, :, 1] = Y\n",
    "\n",
    "# The distribution on the variables X, Y packed into pos.\n",
    "Z_H_nb = multivariate_normal.pdf(pos, means['Hombre'], cov)\n",
    "Z_M_nb = multivariate_normal.pdf(pos, means['Mujer'], cov)\n",
    "Z_nb = get_gauss_prob(pos, means, priors, cov)['Hombre']\n",
    "\n",
    "fig = plt.figure(figsize=(20,10))\n",
    "ax = fig.gca()\n",
    "cm = plt.cm.RdBu\n",
    "cf = ax.contourf(X, Y, Z_nb, 256, alpha=.8, vmin=0., vmax=1., cmap=cm)\n",
    "plt.colorbar(cf, ax=ax)\n",
    "z_levels = np.logspace(-5,-2,10)/4\n",
    "ax.contour(X, Y, Z_H_nb, z_levels)\n",
    "ax.contour(X, Y, Z_M_nb, z_levels)\n",
    "ax.contour(X, Y, Z_nb, (0.5,), colors='k', linewidths=1)\n",
    "ax.set_ylabel('Alturas [cms]')\n",
    "ax.set_xlabel('Pesos [kgs]')\n",
    "plt.show()"
   ]
  },
  {
   "cell_type": "code",
   "execution_count": null,
   "metadata": {},
   "outputs": [],
   "source": [
    "x_train_p = x_train[:, 0].reshape(-1,1)\n",
    "x_test_p = x_test[:, 0].reshape(-1,1)\n",
    "x_train_a = x_train[:, 1].reshape(-1,1)\n",
    "x_test_a = x_test[:, 1].reshape(-1,1)"
   ]
  },
  {
   "cell_type": "markdown",
   "metadata": {},
   "source": [
    "Reentrenamos el modelo con p, $p^2$, a, $a^2$, $p*a$. Extensión cuadrática."
   ]
  },
  {
   "cell_type": "code",
   "execution_count": null,
   "metadata": {},
   "outputs": [],
   "source": [
    "from sklearn.preprocessing import PolynomialFeatures\n",
    "import seaborn as sns\n",
    "\n",
    "poly = PolynomialFeatures(degree=2, include_bias=False)  # degree=2 genera p, p^2, a, a^2, p*a\n",
    "X_train_extended = poly.fit_transform(x_train)\n",
    "x_test_extended = poly.transform(x_test)\n",
    "\n",
    "lda_ext, acc_ext = sk_lda_full(X_train_extended, y_train, poly.transform(x_test), y_test)\n",
    "\n",
    "lda = LinearDiscriminantAnalysis(priors=None)\n",
    "lda.fit(X_train_extended, y_train)\n",
    "\n",
    "acc_train = lda.score(X_train_extended, y_train)\n",
    "acc_test = lda.score(x_test_extended, y_test)\n",
    "\n",
    "print(f\"weights: {lda_ext.coef_}\")\n",
    "print(f\"intercept: {lda_ext.intercept_}\")\n",
    "print(f\"means: {lda_ext.means_}\")\n",
    "print(f\"train accuracy: {acc_train}\")\n",
    "print(f\"validation accuracy: {acc_test}\")"
   ]
  },
  {
   "cell_type": "code",
   "execution_count": null,
   "metadata": {},
   "outputs": [],
   "source": [
    "x_min = x_train[:, 0].min() - 1\n",
    "x_max = x_train[:, 0].max() + 1\n",
    "y_min = x_train[:, 1].min() - 1\n",
    "y_max = x_train[:, 1].max() + 1\n",
    "\n",
    "xx, yy = np.meshgrid(np.linspace(x_min, x_max, 300),\n",
    "                     np.linspace(y_min, y_max, 300))\n",
    "\n",
    "grid = np.c_[xx.ravel(), yy.ravel()]\n",
    "grid_extended = poly.transform(grid)\n",
    "\n",
    "Z = lda.decision_function(grid_extended)\n",
    "Z = Z.reshape(xx.shape)\n",
    "\n",
    "plt.contour(xx, yy, Z, levels=[0.5], colors='black', linewidths=2)\n",
    "\n",
    "color_map = {'Hombre': 'blue', 'Mujer': 'red'}\n",
    "point_colors = [color_map[label] for label in y_train]\n",
    "\n",
    "plt.scatter(x_train[:, 0], x_train[:, 1], c=point_colors, cmap='viridis', edgecolor='k', s=30)\n",
    "plt.xlabel(\"Pesos [kg]\")\n",
    "plt.ylabel(\"Alturas [cm]\")\n",
    "plt.title(\"Decision Boundary in Original 2D Space\")\n",
    "plt.show()"
   ]
  },
  {
   "cell_type": "markdown",
   "metadata": {},
   "source": [
    "**Observaciones:** \n",
    "- ahora el modelo tienen 5 parametros de entrada que se ven reflejados en que los weights ahora son un arreglo de 5 elementos.\n",
    "- el accuracy se mantuvo alrededor del 92%\n",
    "- al tener ahora 5 parametros se sigue teniendo un umbral de decision que es lineal, pero en 5D. En el espacio 2D original, deja de ser lineal."
   ]
  },
  {
   "cell_type": "markdown",
   "metadata": {},
   "source": [
    "LogisticRegression"
   ]
  },
  {
   "cell_type": "code",
   "execution_count": null,
   "metadata": {},
   "outputs": [],
   "source": [
    "from sklearn.linear_model import LogisticRegression\n",
    "\n",
    "lr = LogisticRegression(C=1e12)\n",
    "lr.fit(x_train, y_train)\n",
    "y_pred = lr.predict(x_test)\n",
    "acc_lr = accuracy_score(y_test, y_pred)\n",
    "print(f\"Accuracy: {acc_lr*100} %\")\n",
    "\n",
    "# Parámetros del modelo\n",
    "print(f\"Coeficientes: {lr.coef_}\")\n",
    "print(f\"Intercept: {lr.intercept_}\")"
   ]
  },
  {
   "cell_type": "code",
   "execution_count": null,
   "metadata": {},
   "outputs": [],
   "source": [
    "x_min = x_train[:, 0].min() - 1\n",
    "x_max = x_train[:, 0].max() + 1\n",
    "y_min = x_train[:, 1].min() - 1\n",
    "y_max = x_train[:, 1].max() + 1\n",
    "\n",
    "xx, yy = np.meshgrid(np.linspace(x_min, x_max, 500),\n",
    "                     np.linspace(y_min, y_max, 500))\n",
    "\n",
    "grid = np.c_[xx.ravel(), yy.ravel()]\n",
    "\n",
    "probs = lr.predict_proba(grid)\n",
    "male_probs = probs[:, 1].reshape(xx.shape)\n",
    "\n",
    "levels = np.linspace(0, 1, 100)\n",
    "plt.contourf(xx, yy, male_probs, alpha=0.5, cmap=plt.cm.RdBu_r)\n",
    "\n",
    "plt.contour(xx, yy, male_probs, levels=[0.5], colors='black', linewidths=2)\n",
    "\n",
    "color_map = {'Mujer': 'red', 'Hombre': 'blue'}\n",
    "point_colors = [color_map[label] for label in y_train]\n",
    "\n",
    "plt.scatter(x_train[:, 0], x_train[:, 1], c=point_colors, edgecolors='k', s=30)\n",
    "\n",
    "plt.xlabel(\"Pesos [kg]\")\n",
    "plt.ylabel(\"Altura [cm]\")\n",
    "plt.title(\"Logistic Regression Decision Boundary\")\n",
    "plt.show()"
   ]
  }
 ],
 "metadata": {
  "kernelspec": {
   "display_name": "nn",
   "language": "python",
   "name": "python3"
  },
  "language_info": {
   "codemirror_mode": {
    "name": "ipython",
    "version": 3
   },
   "file_extension": ".py",
   "mimetype": "text/x-python",
   "name": "python",
   "nbconvert_exporter": "python",
   "pygments_lexer": "ipython3",
   "version": "3.13.1"
  }
 },
 "nbformat": 4,
 "nbformat_minor": 2
}
